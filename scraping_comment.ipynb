{
 "cells": [
  {
   "cell_type": "markdown",
   "metadata": {},
   "source": [
    "# Import Library dan Insisialisasi API"
   ]
  },
  {
   "cell_type": "code",
   "execution_count": 9,
   "metadata": {},
   "outputs": [],
   "source": [
    "import googleapiclient.discovery # library untuk akses API Google\n",
    "import pandas as pd\n",
    "\n",
    "# Inisialisasi API\n",
    "api_service_name = \"youtube\" # jenis layanan API\n",
    "api_version = \"v3\" # Versi API\n",
    "DEVELOPER_KEY = \"Your API YouTube\" # API key dari Google cloud console\n",
    "\n",
    "# membangung akses endpoint dari YouTube API\n",
    "youtube = googleapiclient.discovery.build(\n",
    "    api_service_name, api_version, developerKey=DEVELOPER_KEY)"
   ]
  },
  {
   "cell_type": "markdown",
   "metadata": {},
   "source": [
    "# Proses Pengambilan Comments"
   ]
  },
  {
   "cell_type": "code",
   "execution_count": 10,
   "metadata": {},
   "outputs": [],
   "source": [
    "# Inisialisasi variabel\n",
    "video_id = \"9s6imDGjy08\" # ID video youtube yang ingin di scrape\n",
    "comments = [] # list utk menyimpan comment\n",
    "next_page_token = None # token untuk pagination\n",
    "total_comments = 0 # hitung jumlah comment yg diambil\n",
    "max_comments = 10000  # Jumlah target komentar\n",
    "\n",
    "# Looping utk pengambilan comments\n",
    "while total_comments < max_comments:\n",
    "    # Kirim request ke API YouTube\n",
    "    request = youtube.commentThreads().list(\n",
    "        part=\"snippet\",\n",
    "        videoId=video_id,\n",
    "        maxResults=100, # jumlah comment maksimal yg bisa diambil dari api yt\n",
    "        pageToken=next_page_token # mengambil halaman berikutnya dari comment\n",
    "    )\n",
    "    response = request.execute()\n",
    "\n",
    "    # Ambil Data Komentar dari Hasil Response\n",
    "    for item in response['items']:\n",
    "        comment = item['snippet']['topLevelComment']['snippet']\n",
    "        # menambahkan data ke comments\n",
    "        comments.append([\n",
    "            comment['authorDisplayName'], # Nama pengguna yang berkomentar\n",
    "            comment['publishedAt'], # Tanggal komentar dibuat\n",
    "            comment['updatedAt'], # Tanggal komentar terakhir diubah\n",
    "            comment['likeCount'], # Jumlah likes pada komentar\n",
    "            comment['textDisplay'] # Isi komentar\n",
    "        ])\n",
    "        total_comments += 1\n",
    "\n",
    "        if total_comments >= max_comments:\n",
    "            break\n",
    "        \n",
    "    # Pindah ke Halaman Selanjutnya        \n",
    "    next_page_token = response.get('nextPageToken')\n",
    "    if not next_page_token:\n",
    "        break  # Tidak ada halaman lagi\n"
   ]
  },
  {
   "cell_type": "markdown",
   "metadata": {},
   "source": [
    "# Analisis Hasil Scraping"
   ]
  },
  {
   "cell_type": "code",
   "execution_count": 15,
   "metadata": {},
   "outputs": [
    {
     "name": "stdout",
     "output_type": "stream",
     "text": [
      "             author          published_at            updated_at  like_count  \\\n",
      "0      @marvell4636  2025-03-24T13:52:03Z  2025-03-24T13:52:03Z           0   \n",
      "1    @TRICKSTER-y3n  2025-03-24T12:10:52Z  2025-03-24T12:10:52Z           0   \n",
      "2        @Luckyyy_.  2025-03-24T10:53:52Z  2025-03-24T10:53:52Z           2   \n",
      "3   @andigunaya6145  2025-03-24T07:26:22Z  2025-03-24T07:26:22Z           0   \n",
      "4       @ffoldyeard  2025-03-24T03:36:01Z  2025-03-24T03:36:01Z           1   \n",
      "5         @aby_0280  2025-03-24T02:50:55Z  2025-03-24T02:50:55Z           1   \n",
      "6        @abid17329  2025-03-23T15:49:22Z  2025-03-23T15:49:22Z           0   \n",
      "7  @hartoyovivo3372  2025-03-23T12:45:32Z  2025-03-23T12:45:32Z           0   \n",
      "8  @Rizkyamelalgara  2025-03-23T12:20:24Z  2025-03-23T12:20:24Z           0   \n",
      "9      @Akaspribadi  2025-03-23T10:59:26Z  2025-03-23T10:59:26Z           0   \n",
      "\n",
      "                                                text  \n",
      "0  <a href=\"https://www.youtube.com/watch?v=9s6im...  \n",
      "1                                             Santai  \n",
      "2  <a href=\"https://www.youtube.com/watch?v=9s6im...  \n",
      "3  <a href=\"https://www.youtube.com/watch?v=9s6im...  \n",
      "4            Hola hermano, ¿por qué vas a Indonesia?  \n",
      "5  <a href=\"https://www.youtube.com/watch?v=9s6im...  \n",
      "6  <a href=\"https://www.youtube.com/watch?v=9s6im...  \n",
      "7                                            😂😂😂😂😂😂😂  \n",
      "8              When you coming to Indonesia angain??  \n",
      "9                        I hope many people watch it   \n",
      "\n",
      "<class 'pandas.core.frame.DataFrame'>\n",
      "RangeIndex: 10000 entries, 0 to 9999\n",
      "Data columns (total 5 columns):\n",
      " #   Column        Non-Null Count  Dtype \n",
      "---  ------        --------------  ----- \n",
      " 0   author        10000 non-null  object\n",
      " 1   published_at  10000 non-null  object\n",
      " 2   updated_at    10000 non-null  object\n",
      " 3   like_count    10000 non-null  int64 \n",
      " 4   text          10000 non-null  object\n",
      "dtypes: int64(1), object(4)\n",
      "memory usage: 390.8+ KB\n",
      "\n",
      " None\n",
      "\n",
      " (10000, 5)\n"
     ]
    }
   ],
   "source": [
    "# Simpan ke DataFrame\n",
    "df = pd.DataFrame(comments, columns=['author', 'published_at', 'updated_at', 'like_count', 'text'])\n",
    "\n",
    "# Tampilkan 10 komentar pertama, info dataset, dan shapenya\n",
    "print(df.head(10),'\\n')\n",
    "print('\\n',df.info())\n",
    "print('\\n',df.shape)"
   ]
  },
  {
   "cell_type": "code",
   "execution_count": 16,
   "metadata": {},
   "outputs": [
    {
     "name": "stdout",
     "output_type": "stream",
     "text": [
      "<class 'pandas.core.frame.DataFrame'>\n",
      "RangeIndex: 10000 entries, 0 to 9999\n",
      "Data columns (total 5 columns):\n",
      " #   Column        Non-Null Count  Dtype \n",
      "---  ------        --------------  ----- \n",
      " 0   author        10000 non-null  object\n",
      " 1   published_at  10000 non-null  object\n",
      " 2   updated_at    10000 non-null  object\n",
      " 3   like_count    10000 non-null  int64 \n",
      " 4   text          10000 non-null  object\n",
      "dtypes: int64(1), object(4)\n",
      "memory usage: 390.8+ KB\n"
     ]
    }
   ],
   "source": [
    "df.info()"
   ]
  },
  {
   "cell_type": "code",
   "execution_count": null,
   "metadata": {},
   "outputs": [
    {
     "data": {
      "application/vnd.microsoft.datawrangler.viewer.v0+json": {
       "columns": [
        {
         "name": "('author', 'text')",
         "rawType": "object",
         "type": "unknown"
        },
        {
         "name": "like_count",
         "rawType": "int64",
         "type": "integer"
        }
       ],
       "conversionMethod": "pd.DataFrame",
       "ref": "113ea272-b324-4a99-bbe9-98c2a0cc9382",
       "rows": [
        [
         "('@MedyRenaldy', 'Pls take care of my mini Ronaldo. And dont forget to kiss it every night')",
         "1776"
        ],
        [
         "('@Nerunvlogs', 'If this comment gets Likes that means Everyone in 2025 is still watching 😮')",
         "1416"
        ],
        [
         "('@Tukangmainzz', '<a href=\"https://www.youtube.com/watch?v=9s6imDGjy08&amp;t=323\">5:23</a> bro got stream sniped really fast')",
         "867"
        ],
        [
         "('@L4R0n', 'IshowSpeed Moments in Indonesia\\r<br>\\r<br><a href=\"https://www.youtube.com/watch?v=9s6imDGjy08&amp;t=322\">5:22</a> - Fastest Stream Sniper\\r<br><a href=\"https://www.youtube.com/watch?v=9s6imDGjy08&amp;t=896\">14:56</a> - Speed got his first batik in indonesia\\r<br><a href=\"https://www.youtube.com/watch?v=9s6imDGjy08&amp;t=992\">16:32</a> - Fortune Teller\\r<br><a href=\"https://www.youtube.com/watch?v=9s6imDGjy08&amp;t=1152\">19:12</a> - IShowSpeed United and got a Manchester United batik\\r<br><a href=\"https://www.youtube.com/watch?v=9s6imDGjy08&amp;t=1250\">20:50</a> - Indonesian soldier living statue\\r<br><a href=\"https://www.youtube.com/watch?v=9s6imDGjy08&amp;t=1368\">22:48</a> - Speed tries gorengan (fritter)\\r<br><a href=\"https://www.youtube.com/watch?v=9s6imDGjy08&amp;t=1460\">24:20</a> - Speed tries nasi Padang\\r<br><a href=\"https://www.youtube.com/watch?v=9s6imDGjy08&amp;t=1598\">26:38</a> - Indonesian traditional music performer\\r<br><a href=\"https://www.youtube.com/watch?v=9s6imDGjy08&amp;t=1666\">27:46</a> - Speed playing angklung (traditional musical instrument)\\r<br><a href=\"https://www.youtube.com/watch?v=9s6imDGjy08&amp;t=1878\">31:18</a> - Another Indonesian soldier living statue\\r<br><a href=\"https://www.youtube.com/watch?v=9s6imDGjy08&amp;t=2000\">33:20</a> - Speed sings a duet with a female\\r<br><a href=\"https://www.youtube.com/watch?v=9s6imDGjy08&amp;t=2546\">42:26</a> - Speed tries Indonesian KFC\\r<br><a href=\"https://www.youtube.com/watch?v=9s6imDGjy08&amp;t=2922\">48:42</a> - Speed in a horror house\\r<br><a href=\"https://www.youtube.com/watch?v=9s6imDGjy08&amp;t=3010\">50:10</a> - Speed helping a zombie out of prison\\r<br><a href=\"https://www.youtube.com/watch?v=9s6imDGjy08&amp;t=3226\">53:46</a> - Speed helping a crawling ghost.\\r<br><a href=\"https://www.youtube.com/watch?v=9s6imDGjy08&amp;t=3283\">54:43</a> - Speed bodyguard as a ghost, W henry\\r<br><a href=\"https://www.youtube.com/watch?v=9s6imDGjy08&amp;t=3505\">58:25</a> - Crowd\\r<br><a href=\"https://www.youtube.com/watch?v=9s6imDGjy08&amp;t=5095\">1:24:55</a> - Speed hits 1 million live views \\r<br><a href=\"https://www.youtube.com/watch?v=9s6imDGjy08&amp;t=9610\">2:40:10</a> - W Fan Art\\r<br><a href=\"https://www.youtube.com/watch?v=9s6imDGjy08&amp;t=9810\">2:43:30</a> - 20 vs 1\\r<br><a href=\"https://www.youtube.com/watch?v=9s6imDGjy08&amp;t=10713\">2:58:33</a> - Speed vs his craziest fan\\r<br><a href=\"https://www.youtube.com/watch?v=9s6imDGjy08&amp;t=11100\">3:05:00</a> - Speed gets a Cristiano Ronaldo detailed Hot Toys gift\\r<br><a href=\"https://www.youtube.com/watch?v=9s6imDGjy08&amp;t=11595\">3:13:15</a> - Speed and a wannabe monkey\\r<br><a href=\"https://www.youtube.com/watch?v=9s6imDGjy08&amp;t=11681\">3:14:41</a> - Speed vs Messi fans\\r<br><a href=\"https://www.youtube.com/watch?v=9s6imDGjy08&amp;t=12229\">3:23:49</a> - 20 vs 1 and Nami\\r<br><a href=\"https://www.youtube.com/watch?v=9s6imDGjy08&amp;t=13616\">3:46:56</a> - Green Apple')",
         "526"
        ],
        [
         "('@Saugat.Timalsina', 'Who&#39;s here after PERU stream <br>👇')",
         "524"
        ],
        [
         "('@eriadriandoko6802', 'maaf speed kalau ada tindakan rakyat kami yang kurang berkenan yang membuatmu tidak nyaman itu semua karena mereka menyukaimu, mereka mengikutimu karena mereka mau &quot; WELL COME TO INDONESIA MY COUNTRY&quot; semoga hari-harimu bahagia')",
         "479"
        ],
        [
         "('@MightyRams28', 'It&#39;s hurt to know that indonesia beat Philippines but RESPECT TO INDONESIA!! 🇮🇩🇮🇩')",
         "467"
        ],
        [
         "('@Dzone-k4z', '<a href=\"https://www.youtube.com/watch?v=9s6imDGjy08&amp;t=3\">00:03</a> Excited to be in Indonesia and engaging with viewers<br><a href=\"https://www.youtube.com/watch?v=9s6imDGjy08&amp;t=243\">04:03</a> Planning more streams in Indonesia.<br><a href=\"https://www.youtube.com/watch?v=9s6imDGjy08&amp;t=559\">09:19</a> Discussion about the amount of money needed for meals<br><a href=\"https://www.youtube.com/watch?v=9s6imDGjy08&amp;t=735\">12:15</a> Encountered filming restrictions at the location<br><a href=\"https://www.youtube.com/watch?v=9s6imDGjy08&amp;t=1137\">18:57</a> Unveiling of a special gift during the stream.<br><a href=\"https://www.youtube.com/watch?v=9s6imDGjy08&amp;t=1295\">21:35</a> Exploring Indonesian street food and interacting with locals<br><a href=\"https://www.youtube.com/watch?v=9s6imDGjy08&amp;t=1848\">30:48</a> Enthusiastic response to Indonesian soldiers and culture<br><a href=\"https://www.youtube.com/watch?v=9s6imDGjy08&amp;t=2075\">34:35</a> Indonesian audience enjoying a music performance<br><a href=\"https://www.youtube.com/watch?v=9s6imDGjy08&amp;t=2477\">41:17</a> Reached 333,000 Subs in 40 minutes in Indonesia<br><a href=\"https://www.youtube.com/watch?v=9s6imDGjy08&amp;t=2697\">44:57</a> Exploring supposedly scariest Indonesia haunted house<br><a href=\"https://www.youtube.com/watch?v=9s6imDGjy08&amp;t=2997\">49:57</a> Exploring a scary house in Indonesia.<br><a href=\"https://www.youtube.com/watch?v=9s6imDGjy08&amp;t=3185\">53:05</a> Unexpected and intense event<br><a href=\"https://www.youtube.com/watch?v=9s6imDGjy08&amp;t=3546\">59:06</a> Gained 100,000 Subs in 1 hour in Indonesia<br><a href=\"https://www.youtube.com/watch?v=9s6imDGjy08&amp;t=3779\">1:02:59</a> Discussion on Indonesia potentially beating Philippines record<br><a href=\"https://www.youtube.com/watch?v=9s6imDGjy08&amp;t=4078\">1:07:58</a> Exciting stream with police escort in Indonesia<br><a href=\"https://www.youtube.com/watch?v=9s6imDGjy08&amp;t=4216\">1:10:16</a> Exploring Indonesia beyond Bali<br><a href=\"https://www.youtube.com/watch?v=9s6imDGjy08&amp;t=4505\">1:15:05</a> Excitement during IRL streaming in Indonesia<br><a href=\"https://www.youtube.com/watch?v=9s6imDGjy08&amp;t=4657\">1:17:37</a> Emotional reaction to nearing 1 million viewers in Indonesia<br><a href=\"https://www.youtube.com/watch?v=9s6imDGjy08&amp;t=4953\">1:22:33</a> Excitement over reaching 1 million live viewers<br><a href=\"https://www.youtube.com/watch?v=9s6imDGjy08&amp;t=5149\">1:25:49</a> Backflip incident in crowded area<br><a href=\"https://www.youtube.com/watch?v=9s6imDGjy08&amp;t=5690\">1:34:50</a> Excitement and gratitude for gifts in Indonesia<br><a href=\"https://www.youtube.com/watch?v=9s6imDGjy08&amp;t=5992\">1:39:52</a> Chaos and frustration during the stream in Indonesia<br><a href=\"https://www.youtube.com/watch?v=9s6imDGjy08&amp;t=6660\">1:51:00</a> Sudden disruption during the livestream in Indonesia<br><a href=\"https://www.youtube.com/watch?v=9s6imDGjy08&amp;t=6809\">1:53:29</a> Struggling with technical issues during the stream<br><a href=\"https://www.youtube.com/watch?v=9s6imDGjy08&amp;t=7073\">1:57:53</a> Dealing with chat freezing due to high typing activity<br><a href=\"https://www.youtube.com/watch?v=9s6imDGjy08&amp;t=7207\">2:00:07</a> Stream overwhelmed by Indonesian viewers<br><a href=\"https://www.youtube.com/watch?v=9s6imDGjy08&amp;t=7553\">2:05:53</a> Struggles with slow mode setting in chat<br><a href=\"https://www.youtube.com/watch?v=9s6imDGjy08&amp;t=7757\">2:09:17</a> Struggling with stream overload due to high traffic<br><a href=\"https://www.youtube.com/watch?v=9s6imDGjy08&amp;t=8029\">2:13:49</a> The stream is glitched, causing chat messages to backlog.<br><a href=\"https://www.youtube.com/watch?v=9s6imDGjy08&amp;t=8153\">2:15:53</a> Stream faced technical issues with chat delay and lag in Indonesia<br><a href=\"https://www.youtube.com/watch?v=9s6imDGjy08&amp;t=8485\">2:21:25</a> Troubleshooting chat lag issue during live stream<br><a href=\"https://www.youtube.com/watch?v=9s6imDGjy08&amp;t=8629\">2:23:49</a> Experiencing technical difficulties in the stream<br><a href=\"https://www.youtube.com/watch?v=9s6imDGjy08&amp;t=8949\">2:29:09</a> Consider streaming from Komodo Island in Indonesia.<br><a href=\"https://www.youtube.com/watch?v=9s6imDGjy08&amp;t=9071\">2:31:11</a> Consider visiting KOMO Island besides Bali.<br><a href=\"https://www.youtube.com/watch?v=9s6imDGjy08&amp;t=9357\">2:35:57</a> Achieving 1 million viewers on a solo stream.<br><a href=\"https://www.youtube.com/watch?v=9s6imDGjy08&amp;t=9491\">2:38:11</a> Excited about reaching a million viewers on a Sony fx3 in Indonesia<br><a href=\"https://www.youtube.com/watch?v=9s6imDGjy08&amp;t=9803\">2:43:23</a> Introducing and exchanging greetings with Lola from Jakarta.<br><a href=\"https://www.youtube.com/watch?v=9s6imDGjy08&amp;t=9946\">2:45:46</a> Learning Japanese slang and dance moves in Indonesia<br><a href=\"https://www.youtube.com/watch?v=9s6imDGjy08&amp;t=10265\">2:51:05</a> Discussion about Afro things and dance<br><a href=\"https://www.youtube.com/watch?v=9s6imDGjy08&amp;t=10417\">2:53:37</a> Planning to meet someone for a quick gift exchange<br><a href=\"https://www.youtube.com/watch?v=9s6imDGjy08&amp;t=10742\">2:59:02</a> Boxing challenge between the streamer and Indonesian boxer<br><a href=\"https://www.youtube.com/watch?v=9s6imDGjy08&amp;t=10933\">3:02:13</a> Unexpected events during an IRL stream<br><a href=\"https://www.youtube.com/watch?v=9s6imDGjy08&amp;t=11340\">3:09:00</a> Excitement and admiration for Indonesian culture<br><a href=\"https://www.youtube.com/watch?v=9s6imDGjy08&amp;t=11560\">3:12:40</a> Receiving gifts and interacting with locals in Indonesia<br><a href=\"https://www.youtube.com/watch?v=9s6imDGjy08&amp;t=11941\">3:19:01</a> Achieving 430,000 subscribers in one stream<br><a href=\"https://www.youtube.com/watch?v=9s6imDGjy08&amp;t=12178\">3:22:58</a> Streaming experience in Indonesia<br><a href=\"https://www.youtube.com/watch?v=9s6imDGjy08&amp;t=12469\">3:27:49</a> Competition of push-ups with a twist<br><a href=\"https://www.youtube.com/watch?v=9s6imDGjy08&amp;t=12600\">3:30:00</a> Exploring the diverse talents of people in Indonesia<br><a href=\"https://www.youtube.com/watch?v=9s6imDGjy08&amp;t=12880\">3:34:40</a> Enjoying Indonesia&#39;s hospitality and food<br><a href=\"https://www.youtube.com/watch?v=9s6imDGjy08&amp;t=12993\">3:36:33</a> Casual conversation with an Indonesian girl<br><a href=\"https://www.youtube.com/watch?v=9s6imDGjy08&amp;t=13248\">3:40:48</a> Positive experience in Jakarta<br><a href=\"https://www.youtube.com/watch?v=9s6imDGjy08&amp;t=13378\">3:42:58</a> Streamer expresses gratitude to viewers for best stream ever<br><a href=\"https://www.youtube.com/watch?v=9s6imDGjy08&amp;t=13637\">3:47:17</a> Exploring the streets of Indonesia in an interactive livestream')",
         "430"
        ],
        [
         "('@VanDeviloo', 'INDONESIA, 1,9 million km sq area, 283 million people, 99k km coastline, 17k islands, 719 languages, 514 cities, 1300 ethnics/tribes, 130 volcanoes, and 38 provinces makes Indonesia very rich. Wonderful Indonesia!')",
         "416"
        ],
        [
         "('@everestyt631', 'It&#39;s so crazy THIS ONE SINGLE STREAM became IShowSpeed&#39;s most popular Live stream on his channel, MILLIONS of INDONESIAN FANS was breaking the chat, getting this one live stream 1.1M likes, and made so many crowds around Indonesia. Hope you have a great day Speed!')",
         "356"
        ],
        [
         "('@GamingReal42', '<a href=\"https://www.youtube.com/watch?v=9s6imDGjy08&amp;t=647\">10:47</a> isss apasih😂😂😂')",
         "352"
        ],
        [
         "('@algifary9685', '<a href=\"https://www.youtube.com/watch?v=9s6imDGjy08&amp;t=2626\">43:46</a> He threw away Messi&#39;s shirt 😄')",
         "308"
        ],
        [
         "('@LaCreiaKkatuaa', '<a href=\"https://www.youtube.com/watch?v=9s6imDGjy08&amp;t=3510\">58:30</a> this just masterpiece, lol')",
         "302"
        ],
        [
         "('@SancheslavYalkova', 'Many say “L Indonesia” are you not sorry for your words? Look at this while IShowSpeed to Indonesia 1 day after this video was uploaded this video broke through 1 million views 1 top in trending 470k subscribers and others you who say &quot;L Indonesia&quot; are just jealous of our achievements, we are a strong country')",
         "300"
        ],
        [
         "('@JOKER-kc8gn', '<a href=\"https://www.youtube.com/watch?v=9s6imDGjy08&amp;t=2695\">44:55</a> 1st Indoneaian yang ngajarin santai2')",
         "296"
        ],
        [
         "('@SOKDara-z9w', 'Cambodia likes Indonesian friends very much 🇰🇭🫂🇲🇨 Like the SEA Games, I will always remember my good friend Indonesia 🤕🇰🇭🇲🇨💓')",
         "288"
        ],
        [
         "('@muhsinmaroko', 'Bro, Indonesia is 17,000 Islands thousands of languages and cultures, this nation can make you be the top if you care about them and they can bring you to hell if you fight them,Indonesia is the best 😊ever')",
         "278"
        ],
        [
         "('@Mz_awake', 'ORANG INDONESIA SANTAI BRO, KETEMU SPEED JANGAN RUSUH, HARGAI SPEED ENJOY DI INDONESIA ❤')",
         "268"
        ],
        [
         "('@cintaneysa', 'Bodyguard kerja 10x lipat😭')",
         "245"
        ],
        [
         "('@Viangz07', 'the best from all Asian countries, 20 million viewers in 24 hours')",
         "242"
        ],
        [
         "('@ishanagrawal6364', '<a href=\"https://www.youtube.com/watch?v=9s6imDGjy08&amp;t=3\">00:03</a> Excited to be in Indonesia and engaging with viewers<br><a href=\"https://www.youtube.com/watch?v=9s6imDGjy08&amp;t=243\">04:03</a> Planning more streams in Indonesia.<br><a href=\"https://www.youtube.com/watch?v=9s6imDGjy08&amp;t=559\">09:19</a> Discussion about the amount of money needed for meals<br><a href=\"https://www.youtube.com/watch?v=9s6imDGjy08&amp;t=735\">12:15</a> Encountered filming restrictions at the location<br><a href=\"https://www.youtube.com/watch?v=9s6imDGjy08&amp;t=1137\">18:57</a> Unveiling of a special gift during the stream.<br><a href=\"https://www.youtube.com/watch?v=9s6imDGjy08&amp;t=1295\">21:35</a> Exploring Indonesian street food and interacting with locals<br><a href=\"https://www.youtube.com/watch?v=9s6imDGjy08&amp;t=1848\">30:48</a> Enthusiastic response to Indonesian soldiers and culture<br><a href=\"https://www.youtube.com/watch?v=9s6imDGjy08&amp;t=2075\">34:35</a> Indonesian audience enjoying a music performance<br><a href=\"https://www.youtube.com/watch?v=9s6imDGjy08&amp;t=2477\">41:17</a> Reached 333,000 Subs in 40 minutes in Indonesia<br><a href=\"https://www.youtube.com/watch?v=9s6imDGjy08&amp;t=2697\">44:57</a> Exploring supposedly scariest Indonesia haunted house<br><a href=\"https://www.youtube.com/watch?v=9s6imDGjy08&amp;t=2997\">49:57</a> Exploring a scary house in Indonesia.<br><a href=\"https://www.youtube.com/watch?v=9s6imDGjy08&amp;t=3185\">53:05</a> Unexpected and intense event<br><a href=\"https://www.youtube.com/watch?v=9s6imDGjy08&amp;t=3546\">59:06</a> Gained 100,000 Subs in 1 hour in Indonesia<br><a href=\"https://www.youtube.com/watch?v=9s6imDGjy08&amp;t=3779\">1:02:59</a> Discussion on Indonesia potentially beating Philippines record<br><a href=\"https://www.youtube.com/watch?v=9s6imDGjy08&amp;t=4078\">1:07:58</a> Exciting stream with police escort in Indonesia<br><a href=\"https://www.youtube.com/watch?v=9s6imDGjy08&amp;t=4216\">1:10:16</a> Exploring Indonesia beyond Bali<br><a href=\"https://www.youtube.com/watch?v=9s6imDGjy08&amp;t=4505\">1:15:05</a> Excitement during IRL streaming in Indonesia<br><a href=\"https://www.youtube.com/watch?v=9s6imDGjy08&amp;t=4657\">1:17:37</a> Emotional reaction to nearing 1 million viewers in Indonesia<br><a href=\"https://www.youtube.com/watch?v=9s6imDGjy08&amp;t=4953\">1:22:33</a> Excitement over reaching 1 million live viewers<br><a href=\"https://www.youtube.com/watch?v=9s6imDGjy08&amp;t=5149\">1:25:49</a> Backflip incident in crowded area<br><a href=\"https://www.youtube.com/watch?v=9s6imDGjy08&amp;t=5690\">1:34:50</a> Excitement and gratitude for gifts in Indonesia<br><a href=\"https://www.youtube.com/watch?v=9s6imDGjy08&amp;t=5992\">1:39:52</a> Chaos and frustration during the stream in Indonesia<br><a href=\"https://www.youtube.com/watch?v=9s6imDGjy08&amp;t=6660\">1:51:00</a> Sudden disruption during the livestream in Indonesia<br><a href=\"https://www.youtube.com/watch?v=9s6imDGjy08&amp;t=6809\">1:53:29</a> Struggling with technical issues during the stream<br><a href=\"https://www.youtube.com/watch?v=9s6imDGjy08&amp;t=7073\">1:57:53</a> Dealing with chat freezing due to high typing activity<br><a href=\"https://www.youtube.com/watch?v=9s6imDGjy08&amp;t=7207\">2:00:07</a> Stream overwhelmed by Indonesian viewers<br><a href=\"https://www.youtube.com/watch?v=9s6imDGjy08&amp;t=7553\">2:05:53</a> Struggles with slow mode setting in chat<br><a href=\"https://www.youtube.com/watch?v=9s6imDGjy08&amp;t=7757\">2:09:17</a> Struggling with stream overload due to high traffic<br><a href=\"https://www.youtube.com/watch?v=9s6imDGjy08&amp;t=8029\">2:13:49</a> The stream is glitched, causing chat messages to backlog.<br><a href=\"https://www.youtube.com/watch?v=9s6imDGjy08&amp;t=8153\">2:15:53</a> Stream faced technical issues with chat delay and lag in Indonesia<br><a href=\"https://www.youtube.com/watch?v=9s6imDGjy08&amp;t=8485\">2:21:25</a> Troubleshooting chat lag issue during live stream<br><a href=\"https://www.youtube.com/watch?v=9s6imDGjy08&amp;t=8629\">2:23:49</a> Experiencing technical difficulties in the stream<br><a href=\"https://www.youtube.com/watch?v=9s6imDGjy08&amp;t=8949\">2:29:09</a> Consider streaming from Komodo Island in Indonesia.<br><a href=\"https://www.youtube.com/watch?v=9s6imDGjy08&amp;t=9071\">2:31:11</a> Consider visiting KOMO Island besides Bali.<br><a href=\"https://www.youtube.com/watch?v=9s6imDGjy08&amp;t=9357\">2:35:57</a> Achieving 1 million viewers on a solo stream.<br><a href=\"https://www.youtube.com/watch?v=9s6imDGjy08&amp;t=9491\">2:38:11</a> Excited about reaching a million viewers on a Sony fx3 in Indonesia<br><a href=\"https://www.youtube.com/watch?v=9s6imDGjy08&amp;t=9803\">2:43:23</a> Introducing and exchanging greetings with Lola from Jakarta.<br><a href=\"https://www.youtube.com/watch?v=9s6imDGjy08&amp;t=9946\">2:45:46</a> Learning Japanese slang and dance moves in Indonesia<br><a href=\"https://www.youtube.com/watch?v=9s6imDGjy08&amp;t=10265\">2:51:05</a> Discussion about Afro things and dance<br><a href=\"https://www.youtube.com/watch?v=9s6imDGjy08&amp;t=10417\">2:53:37</a> Planning to meet someone for a quick gift exchange<br><a href=\"https://www.youtube.com/watch?v=9s6imDGjy08&amp;t=10742\">2:59:02</a> Boxing challenge between the streamer and Indonesian boxer<br><a href=\"https://www.youtube.com/watch?v=9s6imDGjy08&amp;t=10933\">3:02:13</a> Unexpected events during an IRL stream<br><a href=\"https://www.youtube.com/watch?v=9s6imDGjy08&amp;t=11340\">3:09:00</a> Excitement and admiration for Indonesian culture<br><a href=\"https://www.youtube.com/watch?v=9s6imDGjy08&amp;t=11560\">3:12:40</a> Receiving gifts and interacting with locals in Indonesia<br><a href=\"https://www.youtube.com/watch?v=9s6imDGjy08&amp;t=11941\">3:19:01</a> Achieving 430,000 subscribers in one stream<br><a href=\"https://www.youtube.com/watch?v=9s6imDGjy08&amp;t=12178\">3:22:58</a> Streaming experience in Indonesia<br><a href=\"https://www.youtube.com/watch?v=9s6imDGjy08&amp;t=12469\">3:27:49</a> Competition of push-ups with a twist<br><a href=\"https://www.youtube.com/watch?v=9s6imDGjy08&amp;t=12600\">3:30:00</a> Exploring the diverse talents of people in Indonesia<br><a href=\"https://www.youtube.com/watch?v=9s6imDGjy08&amp;t=12880\">3:34:40</a> Enjoying Indonesia&#39;s hospitality and food<br><a href=\"https://www.youtube.com/watch?v=9s6imDGjy08&amp;t=12993\">3:36:33</a> Casual conversation with an Indonesian girl<br><a href=\"https://www.youtube.com/watch?v=9s6imDGjy08&amp;t=13248\">3:40:48</a> Positive experience in Jakarta<br><a href=\"https://www.youtube.com/watch?v=9s6imDGjy08&amp;t=13378\">3:42:58</a> Streamer expresses gratitude to viewers for best stream ever<br><a href=\"https://www.youtube.com/watch?v=9s6imDGjy08&amp;t=13637\">3:47:17</a> Exploring the streets of Indonesia in an interactive livestream')",
         "200"
        ],
        [
         "('@raisatriani', 'now you know the power of indonesia.<br>lotta streamer, youtuber, instagramer or whatever, they&#39;re getting bigger when they visit or talk (in a good way) about indonesia')",
         "190"
        ],
        [
         "('@KokoUltraNiel', 'This is History. Congratulations Speed on 1M concurrent viewers live!')",
         "188"
        ],
        [
         "('@Alvaro-j9p', '<a href=\"https://www.youtube.com/watch?v=9s6imDGjy08&amp;t=1713\">28:33</a> new meme😂')",
         "188"
        ],
        [
         "('@Dantes2888', 'I love Indonesia from Mexico 🇲🇽🤝')",
         "172"
        ],
        [
         "('@princenoctis9540', '1 jam pertama itu Fans Asli, jam berikutnya itu udah nyampur sama orang Fomo dan orang yg butuh atensi buat konten, bahkan mungkin  banyak dr mereka yg g kenal Speed.')",
         "166"
        ],
        [
         "('@wayanxgaming', 'You Must Try Ngarit In Indonesia')",
         "155"
        ],
        [
         "('@tobeldislawFISHING', '100% Indonesian batik<br>100% Indonesian rendang<br>100% Indonesian leather puppets <br>100% Indonesian fried rice and many others')",
         "154"
        ],
        [
         "('@AuliaRahmanl', '#1 di Trending<br>21.761.042 x ditonton  Streaming 2 hari yang lalu  <br>21.761.042 x ditonton  Ditayangkan live tanggal 18 Sep 2024')",
         "141"
        ],
        [
         "('@alif_rahza_ph', '<a href=\"https://www.youtube.com/watch?v=9s6imDGjy08&amp;t=1608\">26:48</a> AWOAKWOK SI NORAK LANGSUNG DITARIK😂😂😂😂😂')",
         "139"
        ],
        [
         "('@wawanbaeylasih8656', 'Kalo menyambut orang luar jangan rekomendasikan makanan pedas karena mayiritas mereka gak terbiasa dgn rasa pedas')",
         "137"
        ],
        [
         "('@MAliLukman', '<a href=\"https://www.youtube.com/watch?v=9s6imDGjy08&amp;t=3478\">57:58</a> PAYBACK! 😂😂')",
         "135"
        ],
        [
         "('@poTATOsUNNY23', '1M live viewers, 20M views, 1M likes, 470k subs in 3 hours, Bro speed making history here, doing it without any celebrity or event just speed himself is crazyy, speed literally the goat of streaming, I&#39;m so proud of you speed❤')",
         "135"
        ],
        [
         "('@lontongsayurrrr', 'Sumpah ya warga indo plis lahhh😭 seharusnya kalian damai dan bikin nyaman gpp ngikutin dari belakang gitu bukan ngerumunin ampun dahhhh')",
         "132"
        ],
        [
         "('@AiWl13', 'Kamu keliling Indonesia aja selama 1/2 bulan bro. Kamu bakalan terkejut dengan perkembangan yg signifikan terhadap Channel anda ❤🎉')",
         "130"
        ],
        [
         "('@feryhidayat9098', 'Terimakasih speed sudah mengunjungi Indonesia, respect jiwanya suka membantu &amp; menolong orang👍🏻❤️ tetap rendah hati speed 🤗❤️')",
         "123"
        ],
        [
         "('@brazilsnaoest', 'PLEASE DEH ORANG INDONESIA GUNAIN AKAL DIKIT LAH, jgn nyampe ngikutin mobilnya si speed + kasih dia angin juga buat ngehirup masa pada ngeroyok gitu busetdah sesek anak orang, jangan sampe negara kita di cap buruk')",
         "114"
        ],
        [
         "('@nacov4991', 'Menurut gw ada beberapa faktor <br>- penduduk kita banyak 280jt(peringkat ke-4 setelah China, India, dan Amrik)<br>- agak overproud dikit ya😂<br>- agak fomoan<br>- Kegirangan <br><br>Itulah kenapa livestreaming nya meledak')",
         "105"
        ],
        [
         "('@Ella_Chan2005', '<a href=\"https://www.youtube.com/watch?v=9s6imDGjy08&amp;t=906\">15:06</a>Yes, batik comes from Indonesia.<br>Not from Malaysia 😑')",
         "102"
        ],
        [
         "('@r7nix8', '<a href=\"https://www.youtube.com/watch?v=9s6imDGjy08&amp;t=5270\">1:27:50</a> sound barrier breaker')",
         "102"
        ],
        [
         "('@alif_rahza_ph', '<a href=\"https://www.youtube.com/watch?v=9s6imDGjy08&amp;t=1620\">27:00</a> keren sih, tetep profesional menari meskipun sebelahnya sangat mengejutkan')",
         "101"
        ],
        [
         "('@RafieSports', 'Batik is from Indonesia is not originally from Malaysia they&#39;re just claimed that we have')",
         "101"
        ],
        [
         "('@adittaniowas1473', 'Kasihan Speed udh kecapean bnget kya nyaa, tpi SALUT dia Tetap Rispect ke Fans2 nyaaa❤❤❤❤ You The Best Spedd')",
         "97"
        ],
        [
         "('@radennanda1233', 'Even though we always lose to Philippines Ml, we are still the same group. We are proud to have the Philippines team, we are brothers and sisters 🇮🇩🔥🇵🇭')",
         "95"
        ],
        [
         "('@SitiAisyahUmrah', 'Siapa nih yang bangga banget jadi orang Indonesia ???')",
         "94"
        ],
        [
         "('@ディトワクワク', 'That first guy is actually the luckiest 😂😂😂')",
         "91"
        ],
        [
         "('@alucardisreal7', '<a href=\"https://www.youtube.com/watch?v=9s6imDGjy08&amp;t=391\">6:31</a> INDOMIE🎉<br><a href=\"https://www.youtube.com/watch?v=9s6imDGjy08&amp;t=1098\">18:18</a> DUKUN PERAMAL KHAS INDONESIA😂<br><a href=\"https://www.youtube.com/watch?v=9s6imDGjy08&amp;t=1278\">21:18</a> MANUSIA PATUNG<br><a href=\"https://www.youtube.com/watch?v=9s6imDGjy08&amp;t=1693\">28:13</a> this is name angklung man<br><a href=\"https://www.youtube.com/watch?v=9s6imDGjy08&amp;t=2821\">47:01</a> Ghost Home in indonesian')",
         "89"
        ],
        [
         "('@TafkaHeim', '1 hari udah paling populer di live nya ishospeed,paling banyak ditonton hanya dalam 1 hari<br>Mengalahkan irl final world cup')",
         "88"
        ],
        [
         "('@DemonLord-rt6fu', 'Sorry if there are any actions by Indonesian citizens that are impolite or unpleasant, I am here to represent Indonesian citizens and I would like to thank you for coming to Indonesia.😊😊')",
         "83"
        ],
        [
         "('@SadamIrawan-x9d', 'Don&#39;t regret coming back to Indonesia again, because Indonesia is a fun, funny and friendly country😁🇮🇩')",
         "83"
        ]
       ],
       "shape": {
        "columns": 1,
        "rows": 9657
       }
      },
      "text/html": [
       "<div>\n",
       "<style scoped>\n",
       "    .dataframe tbody tr th:only-of-type {\n",
       "        vertical-align: middle;\n",
       "    }\n",
       "\n",
       "    .dataframe tbody tr th {\n",
       "        vertical-align: top;\n",
       "    }\n",
       "\n",
       "    .dataframe thead th {\n",
       "        text-align: right;\n",
       "    }\n",
       "</style>\n",
       "<table border=\"1\" class=\"dataframe\">\n",
       "  <thead>\n",
       "    <tr style=\"text-align: right;\">\n",
       "      <th></th>\n",
       "      <th></th>\n",
       "      <th>like_count</th>\n",
       "    </tr>\n",
       "    <tr>\n",
       "      <th>author</th>\n",
       "      <th>text</th>\n",
       "      <th></th>\n",
       "    </tr>\n",
       "  </thead>\n",
       "  <tbody>\n",
       "    <tr>\n",
       "      <th>@MedyRenaldy</th>\n",
       "      <th>Pls take care of my mini Ronaldo. And dont forget to kiss it every night</th>\n",
       "      <td>1776</td>\n",
       "    </tr>\n",
       "    <tr>\n",
       "      <th>@Nerunvlogs</th>\n",
       "      <th>If this comment gets Likes that means Everyone in 2025 is still watching 😮</th>\n",
       "      <td>1416</td>\n",
       "    </tr>\n",
       "    <tr>\n",
       "      <th>@Tukangmainzz</th>\n",
       "      <th>&lt;a href=\"https://www.youtube.com/watch?v=9s6imDGjy08&amp;amp;t=323\"&gt;5:23&lt;/a&gt; bro got stream sniped really fast</th>\n",
       "      <td>867</td>\n",
       "    </tr>\n",
       "    <tr>\n",
       "      <th>@L4R0n</th>\n",
       "      <th>IshowSpeed Moments in Indonesia\\r&lt;br&gt;\\r&lt;br&gt;&lt;a href=\"https://www.youtube.com/watch?v=9s6imDGjy08&amp;amp;t=322\"&gt;5:22&lt;/a&gt; - Fastest Stream Sniper\\r&lt;br&gt;&lt;a href=\"https://www.youtube.com/watch?v=9s6imDGjy08&amp;amp;t=896\"&gt;14:56&lt;/a&gt; - Speed got his first batik in indonesia\\r&lt;br&gt;&lt;a href=\"https://www.youtube.com/watch?v=9s6imDGjy08&amp;amp;t=992\"&gt;16:32&lt;/a&gt; - Fortune Teller\\r&lt;br&gt;&lt;a href=\"https://www.youtube.com/watch?v=9s6imDGjy08&amp;amp;t=1152\"&gt;19:12&lt;/a&gt; - IShowSpeed United and got a Manchester United batik\\r&lt;br&gt;&lt;a href=\"https://www.youtube.com/watch?v=9s6imDGjy08&amp;amp;t=1250\"&gt;20:50&lt;/a&gt; - Indonesian soldier living statue\\r&lt;br&gt;&lt;a href=\"https://www.youtube.com/watch?v=9s6imDGjy08&amp;amp;t=1368\"&gt;22:48&lt;/a&gt; - Speed tries gorengan (fritter)\\r&lt;br&gt;&lt;a href=\"https://www.youtube.com/watch?v=9s6imDGjy08&amp;amp;t=1460\"&gt;24:20&lt;/a&gt; - Speed tries nasi Padang\\r&lt;br&gt;&lt;a href=\"https://www.youtube.com/watch?v=9s6imDGjy08&amp;amp;t=1598\"&gt;26:38&lt;/a&gt; - Indonesian traditional music performer\\r&lt;br&gt;&lt;a href=\"https://www.youtube.com/watch?v=9s6imDGjy08&amp;amp;t=1666\"&gt;27:46&lt;/a&gt; - Speed playing angklung (traditional musical instrument)\\r&lt;br&gt;&lt;a href=\"https://www.youtube.com/watch?v=9s6imDGjy08&amp;amp;t=1878\"&gt;31:18&lt;/a&gt; - Another Indonesian soldier living statue\\r&lt;br&gt;&lt;a href=\"https://www.youtube.com/watch?v=9s6imDGjy08&amp;amp;t=2000\"&gt;33:20&lt;/a&gt; - Speed sings a duet with a female\\r&lt;br&gt;&lt;a href=\"https://www.youtube.com/watch?v=9s6imDGjy08&amp;amp;t=2546\"&gt;42:26&lt;/a&gt; - Speed tries Indonesian KFC\\r&lt;br&gt;&lt;a href=\"https://www.youtube.com/watch?v=9s6imDGjy08&amp;amp;t=2922\"&gt;48:42&lt;/a&gt; - Speed in a horror house\\r&lt;br&gt;&lt;a href=\"https://www.youtube.com/watch?v=9s6imDGjy08&amp;amp;t=3010\"&gt;50:10&lt;/a&gt; - Speed helping a zombie out of prison\\r&lt;br&gt;&lt;a href=\"https://www.youtube.com/watch?v=9s6imDGjy08&amp;amp;t=3226\"&gt;53:46&lt;/a&gt; - Speed helping a crawling ghost.\\r&lt;br&gt;&lt;a href=\"https://www.youtube.com/watch?v=9s6imDGjy08&amp;amp;t=3283\"&gt;54:43&lt;/a&gt; - Speed bodyguard as a ghost, W henry\\r&lt;br&gt;&lt;a href=\"https://www.youtube.com/watch?v=9s6imDGjy08&amp;amp;t=3505\"&gt;58:25&lt;/a&gt; - Crowd\\r&lt;br&gt;&lt;a href=\"https://www.youtube.com/watch?v=9s6imDGjy08&amp;amp;t=5095\"&gt;1:24:55&lt;/a&gt; - Speed hits 1 million live views \\r&lt;br&gt;&lt;a href=\"https://www.youtube.com/watch?v=9s6imDGjy08&amp;amp;t=9610\"&gt;2:40:10&lt;/a&gt; - W Fan Art\\r&lt;br&gt;&lt;a href=\"https://www.youtube.com/watch?v=9s6imDGjy08&amp;amp;t=9810\"&gt;2:43:30&lt;/a&gt; - 20 vs 1\\r&lt;br&gt;&lt;a href=\"https://www.youtube.com/watch?v=9s6imDGjy08&amp;amp;t=10713\"&gt;2:58:33&lt;/a&gt; - Speed vs his craziest fan\\r&lt;br&gt;&lt;a href=\"https://www.youtube.com/watch?v=9s6imDGjy08&amp;amp;t=11100\"&gt;3:05:00&lt;/a&gt; - Speed gets a Cristiano Ronaldo detailed Hot Toys gift\\r&lt;br&gt;&lt;a href=\"https://www.youtube.com/watch?v=9s6imDGjy08&amp;amp;t=11595\"&gt;3:13:15&lt;/a&gt; - Speed and a wannabe monkey\\r&lt;br&gt;&lt;a href=\"https://www.youtube.com/watch?v=9s6imDGjy08&amp;amp;t=11681\"&gt;3:14:41&lt;/a&gt; - Speed vs Messi fans\\r&lt;br&gt;&lt;a href=\"https://www.youtube.com/watch?v=9s6imDGjy08&amp;amp;t=12229\"&gt;3:23:49&lt;/a&gt; - 20 vs 1 and Nami\\r&lt;br&gt;&lt;a href=\"https://www.youtube.com/watch?v=9s6imDGjy08&amp;amp;t=13616\"&gt;3:46:56&lt;/a&gt; - Green Apple</th>\n",
       "      <td>526</td>\n",
       "    </tr>\n",
       "    <tr>\n",
       "      <th>@Saugat.Timalsina</th>\n",
       "      <th>Who&amp;#39;s here after PERU stream &lt;br&gt;👇</th>\n",
       "      <td>524</td>\n",
       "    </tr>\n",
       "    <tr>\n",
       "      <th>...</th>\n",
       "      <th>...</th>\n",
       "      <td>...</td>\n",
       "    </tr>\n",
       "    <tr>\n",
       "      <th>@SujiwoTantri</th>\n",
       "      <th>luaaaaarrrr biasaaaaaaaaa dilasi jackpot teruss sama𝗞𝗗𝘀𝗹𝗼𝘁𝘀 🍒</th>\n",
       "      <td>0</td>\n",
       "    </tr>\n",
       "    <tr>\n",
       "      <th>@SuipOP00</th>\n",
       "      <th>&lt;a href=\"https://www.youtube.com/watch?v=9s6imDGjy08&amp;amp;t=11123\"&gt;3:05:23&lt;/a&gt; bro was crying for his life</th>\n",
       "      <td>0</td>\n",
       "    </tr>\n",
       "    <tr>\n",
       "      <th>@SuhartiniSuhartini-o2t</th>\n",
       "      <th>minggir lu miskin</th>\n",
       "      <td>0</td>\n",
       "    </tr>\n",
       "    <tr>\n",
       "      <th>@SuTiwik</th>\n",
       "      <th>Bang w telat ga?</th>\n",
       "      <td>0</td>\n",
       "    </tr>\n",
       "    <tr>\n",
       "      <th>@비폴-v4h</th>\n",
       "      <th>&lt;a href=\"https://www.youtube.com/watch?v=9s6imDGjy08&amp;amp;t=3230\"&gt;53:50&lt;/a&gt; she or he?</th>\n",
       "      <td>0</td>\n",
       "    </tr>\n",
       "  </tbody>\n",
       "</table>\n",
       "<p>9657 rows × 1 columns</p>\n",
       "</div>"
      ],
      "text/plain": [
       "                                                                            like_count\n",
       "author                  text                                                          \n",
       "@MedyRenaldy            Pls take care of my mini Ronaldo. And dont forg...        1776\n",
       "@Nerunvlogs             If this comment gets Likes that means Everyone ...        1416\n",
       "@Tukangmainzz           <a href=\"https://www.youtube.com/watch?v=9s6imD...         867\n",
       "@L4R0n                  IshowSpeed Moments in Indonesia\\r<br>\\r<br><a h...         526\n",
       "@Saugat.Timalsina       Who&#39;s here after PERU stream <br>👇                     524\n",
       "...                                                                                ...\n",
       "@SujiwoTantri           luaaaaarrrr biasaaaaaaaaa dilasi jackpot teruss...           0\n",
       "@SuipOP00               <a href=\"https://www.youtube.com/watch?v=9s6imD...           0\n",
       "@SuhartiniSuhartini-o2t minggir lu miskin                                            0\n",
       "@SuTiwik                Bang w telat ga?                                             0\n",
       "@비폴-v4h                 <a href=\"https://www.youtube.com/watch?v=9s6imD...           0\n",
       "\n",
       "[9657 rows x 1 columns]"
      ]
     },
     "execution_count": 14,
     "metadata": {},
     "output_type": "execute_result"
    }
   ],
   "source": [
    "# cek comment dengan jumlah like terbanyak\n",
    "df.groupby(by=['author','text']).agg({\n",
    "    'like_count': 'max'\n",
    "}).sort_values(by='like_count', ascending=False)"
   ]
  },
  {
   "cell_type": "markdown",
   "metadata": {},
   "source": [
    "# Simpan Dataset dalam Format CSV"
   ]
  },
  {
   "cell_type": "code",
   "execution_count": 17,
   "metadata": {},
   "outputs": [],
   "source": [
    "# Simpan ke CSV\n",
    "df.to_csv(\"IShowSpeed_in_IDN.csv\", index=False)"
   ]
  }
 ],
 "metadata": {
  "kernelspec": {
   "display_name": "Python 3",
   "language": "python",
   "name": "python3"
  },
  "language_info": {
   "codemirror_mode": {
    "name": "ipython",
    "version": 3
   },
   "file_extension": ".py",
   "mimetype": "text/x-python",
   "name": "python",
   "nbconvert_exporter": "python",
   "pygments_lexer": "ipython3",
   "version": "3.11.2"
  }
 },
 "nbformat": 4,
 "nbformat_minor": 2
}
